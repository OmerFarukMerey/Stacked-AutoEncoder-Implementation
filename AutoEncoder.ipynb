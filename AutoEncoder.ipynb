{
  "nbformat": 4,
  "nbformat_minor": 0,
  "metadata": {
    "colab": {
      "provenance": []
    },
    "kernelspec": {
      "name": "python3",
      "display_name": "Python 3"
    },
    "language_info": {
      "name": "python"
    },
    "accelerator": "GPU",
    "gpuClass": "standard"
  },
  "cells": [
    {
      "cell_type": "code",
      "source": [
        "!pip install torch"
      ],
      "metadata": {
        "colab": {
          "base_uri": "https://localhost:8080/"
        },
        "id": "mHZqRteOZZ65",
        "outputId": "0c8a7eb6-ee32-4810-db6a-a0475951c902"
      },
      "execution_count": 1,
      "outputs": [
        {
          "output_type": "stream",
          "name": "stdout",
          "text": [
            "Looking in indexes: https://pypi.org/simple, https://us-python.pkg.dev/colab-wheels/public/simple/\n",
            "Requirement already satisfied: torch in /usr/local/lib/python3.8/dist-packages (1.13.1+cu116)\n",
            "Requirement already satisfied: typing-extensions in /usr/local/lib/python3.8/dist-packages (from torch) (4.4.0)\n"
          ]
        }
      ]
    },
    {
      "cell_type": "code",
      "source": [
        "import torch\n",
        "print(torch.__version__)"
      ],
      "metadata": {
        "colab": {
          "base_uri": "https://localhost:8080/"
        },
        "id": "Lw7_NwXIZcAo",
        "outputId": "4dec5a50-aeb4-40cf-cbe0-06c2e7972c7a"
      },
      "execution_count": 2,
      "outputs": [
        {
          "output_type": "stream",
          "name": "stdout",
          "text": [
            "1.13.1+cu116\n"
          ]
        }
      ]
    },
    {
      "cell_type": "code",
      "execution_count": 3,
      "metadata": {
        "id": "DasKWEpbZMd3"
      },
      "outputs": [],
      "source": [
        "import numpy as np\n",
        "import pandas as pd\n",
        "import torch\n",
        "import torch.nn as nn\n",
        "import torch.nn.parallel\n",
        "import torch.optim as optim\n",
        "import torch.utils.data\n",
        "from torch.autograd import Variable"
      ]
    },
    {
      "cell_type": "code",
      "source": [
        "movies = pd.read_csv('/content/drive/MyDrive/ml-1m/ml-1m/movies.dat', sep = '::', header = None, engine = 'python', encoding = 'latin-1')\n",
        "users = pd.read_csv('/content/drive/MyDrive/ml-1m/ml-1m/users.dat', sep = '::', header = None, engine = 'python', encoding = 'latin-1')\n",
        "ratings = pd.read_csv('/content/drive/MyDrive/ml-1m/ml-1m/ratings.dat', sep = '::', header = None, engine = 'python', encoding = 'latin-1')"
      ],
      "metadata": {
        "id": "C5Ui6-pVZQYu"
      },
      "execution_count": 4,
      "outputs": []
    },
    {
      "cell_type": "code",
      "source": [
        "from google.colab import drive\n",
        "drive.mount('/content/drive')"
      ],
      "metadata": {
        "colab": {
          "base_uri": "https://localhost:8080/"
        },
        "id": "zWtKrKnXZfyW",
        "outputId": "4586bc48-106f-4bf6-e4f0-e1b58eafeaa6"
      },
      "execution_count": 5,
      "outputs": [
        {
          "output_type": "stream",
          "name": "stdout",
          "text": [
            "Drive already mounted at /content/drive; to attempt to forcibly remount, call drive.mount(\"/content/drive\", force_remount=True).\n"
          ]
        }
      ]
    },
    {
      "cell_type": "code",
      "source": [
        "movies.head()"
      ],
      "metadata": {
        "colab": {
          "base_uri": "https://localhost:8080/",
          "height": 206
        },
        "id": "Ol4iJz4aZXeZ",
        "outputId": "96dde4d2-fbe4-4552-91f0-775b77e85814"
      },
      "execution_count": 6,
      "outputs": [
        {
          "output_type": "execute_result",
          "data": {
            "text/plain": [
              "   0                                   1                             2\n",
              "0  1                    Toy Story (1995)   Animation|Children's|Comedy\n",
              "1  2                      Jumanji (1995)  Adventure|Children's|Fantasy\n",
              "2  3             Grumpier Old Men (1995)                Comedy|Romance\n",
              "3  4            Waiting to Exhale (1995)                  Comedy|Drama\n",
              "4  5  Father of the Bride Part II (1995)                        Comedy"
            ],
            "text/html": [
              "\n",
              "  <div id=\"df-ed2a012b-421d-4fdb-91cd-4b68f31b5f60\">\n",
              "    <div class=\"colab-df-container\">\n",
              "      <div>\n",
              "<style scoped>\n",
              "    .dataframe tbody tr th:only-of-type {\n",
              "        vertical-align: middle;\n",
              "    }\n",
              "\n",
              "    .dataframe tbody tr th {\n",
              "        vertical-align: top;\n",
              "    }\n",
              "\n",
              "    .dataframe thead th {\n",
              "        text-align: right;\n",
              "    }\n",
              "</style>\n",
              "<table border=\"1\" class=\"dataframe\">\n",
              "  <thead>\n",
              "    <tr style=\"text-align: right;\">\n",
              "      <th></th>\n",
              "      <th>0</th>\n",
              "      <th>1</th>\n",
              "      <th>2</th>\n",
              "    </tr>\n",
              "  </thead>\n",
              "  <tbody>\n",
              "    <tr>\n",
              "      <th>0</th>\n",
              "      <td>1</td>\n",
              "      <td>Toy Story (1995)</td>\n",
              "      <td>Animation|Children's|Comedy</td>\n",
              "    </tr>\n",
              "    <tr>\n",
              "      <th>1</th>\n",
              "      <td>2</td>\n",
              "      <td>Jumanji (1995)</td>\n",
              "      <td>Adventure|Children's|Fantasy</td>\n",
              "    </tr>\n",
              "    <tr>\n",
              "      <th>2</th>\n",
              "      <td>3</td>\n",
              "      <td>Grumpier Old Men (1995)</td>\n",
              "      <td>Comedy|Romance</td>\n",
              "    </tr>\n",
              "    <tr>\n",
              "      <th>3</th>\n",
              "      <td>4</td>\n",
              "      <td>Waiting to Exhale (1995)</td>\n",
              "      <td>Comedy|Drama</td>\n",
              "    </tr>\n",
              "    <tr>\n",
              "      <th>4</th>\n",
              "      <td>5</td>\n",
              "      <td>Father of the Bride Part II (1995)</td>\n",
              "      <td>Comedy</td>\n",
              "    </tr>\n",
              "  </tbody>\n",
              "</table>\n",
              "</div>\n",
              "      <button class=\"colab-df-convert\" onclick=\"convertToInteractive('df-ed2a012b-421d-4fdb-91cd-4b68f31b5f60')\"\n",
              "              title=\"Convert this dataframe to an interactive table.\"\n",
              "              style=\"display:none;\">\n",
              "        \n",
              "  <svg xmlns=\"http://www.w3.org/2000/svg\" height=\"24px\"viewBox=\"0 0 24 24\"\n",
              "       width=\"24px\">\n",
              "    <path d=\"M0 0h24v24H0V0z\" fill=\"none\"/>\n",
              "    <path d=\"M18.56 5.44l.94 2.06.94-2.06 2.06-.94-2.06-.94-.94-2.06-.94 2.06-2.06.94zm-11 1L8.5 8.5l.94-2.06 2.06-.94-2.06-.94L8.5 2.5l-.94 2.06-2.06.94zm10 10l.94 2.06.94-2.06 2.06-.94-2.06-.94-.94-2.06-.94 2.06-2.06.94z\"/><path d=\"M17.41 7.96l-1.37-1.37c-.4-.4-.92-.59-1.43-.59-.52 0-1.04.2-1.43.59L10.3 9.45l-7.72 7.72c-.78.78-.78 2.05 0 2.83L4 21.41c.39.39.9.59 1.41.59.51 0 1.02-.2 1.41-.59l7.78-7.78 2.81-2.81c.8-.78.8-2.07 0-2.86zM5.41 20L4 18.59l7.72-7.72 1.47 1.35L5.41 20z\"/>\n",
              "  </svg>\n",
              "      </button>\n",
              "      \n",
              "  <style>\n",
              "    .colab-df-container {\n",
              "      display:flex;\n",
              "      flex-wrap:wrap;\n",
              "      gap: 12px;\n",
              "    }\n",
              "\n",
              "    .colab-df-convert {\n",
              "      background-color: #E8F0FE;\n",
              "      border: none;\n",
              "      border-radius: 50%;\n",
              "      cursor: pointer;\n",
              "      display: none;\n",
              "      fill: #1967D2;\n",
              "      height: 32px;\n",
              "      padding: 0 0 0 0;\n",
              "      width: 32px;\n",
              "    }\n",
              "\n",
              "    .colab-df-convert:hover {\n",
              "      background-color: #E2EBFA;\n",
              "      box-shadow: 0px 1px 2px rgba(60, 64, 67, 0.3), 0px 1px 3px 1px rgba(60, 64, 67, 0.15);\n",
              "      fill: #174EA6;\n",
              "    }\n",
              "\n",
              "    [theme=dark] .colab-df-convert {\n",
              "      background-color: #3B4455;\n",
              "      fill: #D2E3FC;\n",
              "    }\n",
              "\n",
              "    [theme=dark] .colab-df-convert:hover {\n",
              "      background-color: #434B5C;\n",
              "      box-shadow: 0px 1px 3px 1px rgba(0, 0, 0, 0.15);\n",
              "      filter: drop-shadow(0px 1px 2px rgba(0, 0, 0, 0.3));\n",
              "      fill: #FFFFFF;\n",
              "    }\n",
              "  </style>\n",
              "\n",
              "      <script>\n",
              "        const buttonEl =\n",
              "          document.querySelector('#df-ed2a012b-421d-4fdb-91cd-4b68f31b5f60 button.colab-df-convert');\n",
              "        buttonEl.style.display =\n",
              "          google.colab.kernel.accessAllowed ? 'block' : 'none';\n",
              "\n",
              "        async function convertToInteractive(key) {\n",
              "          const element = document.querySelector('#df-ed2a012b-421d-4fdb-91cd-4b68f31b5f60');\n",
              "          const dataTable =\n",
              "            await google.colab.kernel.invokeFunction('convertToInteractive',\n",
              "                                                     [key], {});\n",
              "          if (!dataTable) return;\n",
              "\n",
              "          const docLinkHtml = 'Like what you see? Visit the ' +\n",
              "            '<a target=\"_blank\" href=https://colab.research.google.com/notebooks/data_table.ipynb>data table notebook</a>'\n",
              "            + ' to learn more about interactive tables.';\n",
              "          element.innerHTML = '';\n",
              "          dataTable['output_type'] = 'display_data';\n",
              "          await google.colab.output.renderOutput(dataTable, element);\n",
              "          const docLink = document.createElement('div');\n",
              "          docLink.innerHTML = docLinkHtml;\n",
              "          element.appendChild(docLink);\n",
              "        }\n",
              "      </script>\n",
              "    </div>\n",
              "  </div>\n",
              "  "
            ]
          },
          "metadata": {},
          "execution_count": 6
        }
      ]
    },
    {
      "cell_type": "code",
      "source": [
        "users.head()"
      ],
      "metadata": {
        "colab": {
          "base_uri": "https://localhost:8080/",
          "height": 206
        },
        "id": "uVWI4HBtZw8F",
        "outputId": "175eada2-516b-4dc5-a0ee-c69ebf2d90fa"
      },
      "execution_count": 7,
      "outputs": [
        {
          "output_type": "execute_result",
          "data": {
            "text/plain": [
              "   0  1   2   3      4\n",
              "0  1  F   1  10  48067\n",
              "1  2  M  56  16  70072\n",
              "2  3  M  25  15  55117\n",
              "3  4  M  45   7  02460\n",
              "4  5  M  25  20  55455"
            ],
            "text/html": [
              "\n",
              "  <div id=\"df-37038dde-f329-4322-a838-f9920076740d\">\n",
              "    <div class=\"colab-df-container\">\n",
              "      <div>\n",
              "<style scoped>\n",
              "    .dataframe tbody tr th:only-of-type {\n",
              "        vertical-align: middle;\n",
              "    }\n",
              "\n",
              "    .dataframe tbody tr th {\n",
              "        vertical-align: top;\n",
              "    }\n",
              "\n",
              "    .dataframe thead th {\n",
              "        text-align: right;\n",
              "    }\n",
              "</style>\n",
              "<table border=\"1\" class=\"dataframe\">\n",
              "  <thead>\n",
              "    <tr style=\"text-align: right;\">\n",
              "      <th></th>\n",
              "      <th>0</th>\n",
              "      <th>1</th>\n",
              "      <th>2</th>\n",
              "      <th>3</th>\n",
              "      <th>4</th>\n",
              "    </tr>\n",
              "  </thead>\n",
              "  <tbody>\n",
              "    <tr>\n",
              "      <th>0</th>\n",
              "      <td>1</td>\n",
              "      <td>F</td>\n",
              "      <td>1</td>\n",
              "      <td>10</td>\n",
              "      <td>48067</td>\n",
              "    </tr>\n",
              "    <tr>\n",
              "      <th>1</th>\n",
              "      <td>2</td>\n",
              "      <td>M</td>\n",
              "      <td>56</td>\n",
              "      <td>16</td>\n",
              "      <td>70072</td>\n",
              "    </tr>\n",
              "    <tr>\n",
              "      <th>2</th>\n",
              "      <td>3</td>\n",
              "      <td>M</td>\n",
              "      <td>25</td>\n",
              "      <td>15</td>\n",
              "      <td>55117</td>\n",
              "    </tr>\n",
              "    <tr>\n",
              "      <th>3</th>\n",
              "      <td>4</td>\n",
              "      <td>M</td>\n",
              "      <td>45</td>\n",
              "      <td>7</td>\n",
              "      <td>02460</td>\n",
              "    </tr>\n",
              "    <tr>\n",
              "      <th>4</th>\n",
              "      <td>5</td>\n",
              "      <td>M</td>\n",
              "      <td>25</td>\n",
              "      <td>20</td>\n",
              "      <td>55455</td>\n",
              "    </tr>\n",
              "  </tbody>\n",
              "</table>\n",
              "</div>\n",
              "      <button class=\"colab-df-convert\" onclick=\"convertToInteractive('df-37038dde-f329-4322-a838-f9920076740d')\"\n",
              "              title=\"Convert this dataframe to an interactive table.\"\n",
              "              style=\"display:none;\">\n",
              "        \n",
              "  <svg xmlns=\"http://www.w3.org/2000/svg\" height=\"24px\"viewBox=\"0 0 24 24\"\n",
              "       width=\"24px\">\n",
              "    <path d=\"M0 0h24v24H0V0z\" fill=\"none\"/>\n",
              "    <path d=\"M18.56 5.44l.94 2.06.94-2.06 2.06-.94-2.06-.94-.94-2.06-.94 2.06-2.06.94zm-11 1L8.5 8.5l.94-2.06 2.06-.94-2.06-.94L8.5 2.5l-.94 2.06-2.06.94zm10 10l.94 2.06.94-2.06 2.06-.94-2.06-.94-.94-2.06-.94 2.06-2.06.94z\"/><path d=\"M17.41 7.96l-1.37-1.37c-.4-.4-.92-.59-1.43-.59-.52 0-1.04.2-1.43.59L10.3 9.45l-7.72 7.72c-.78.78-.78 2.05 0 2.83L4 21.41c.39.39.9.59 1.41.59.51 0 1.02-.2 1.41-.59l7.78-7.78 2.81-2.81c.8-.78.8-2.07 0-2.86zM5.41 20L4 18.59l7.72-7.72 1.47 1.35L5.41 20z\"/>\n",
              "  </svg>\n",
              "      </button>\n",
              "      \n",
              "  <style>\n",
              "    .colab-df-container {\n",
              "      display:flex;\n",
              "      flex-wrap:wrap;\n",
              "      gap: 12px;\n",
              "    }\n",
              "\n",
              "    .colab-df-convert {\n",
              "      background-color: #E8F0FE;\n",
              "      border: none;\n",
              "      border-radius: 50%;\n",
              "      cursor: pointer;\n",
              "      display: none;\n",
              "      fill: #1967D2;\n",
              "      height: 32px;\n",
              "      padding: 0 0 0 0;\n",
              "      width: 32px;\n",
              "    }\n",
              "\n",
              "    .colab-df-convert:hover {\n",
              "      background-color: #E2EBFA;\n",
              "      box-shadow: 0px 1px 2px rgba(60, 64, 67, 0.3), 0px 1px 3px 1px rgba(60, 64, 67, 0.15);\n",
              "      fill: #174EA6;\n",
              "    }\n",
              "\n",
              "    [theme=dark] .colab-df-convert {\n",
              "      background-color: #3B4455;\n",
              "      fill: #D2E3FC;\n",
              "    }\n",
              "\n",
              "    [theme=dark] .colab-df-convert:hover {\n",
              "      background-color: #434B5C;\n",
              "      box-shadow: 0px 1px 3px 1px rgba(0, 0, 0, 0.15);\n",
              "      filter: drop-shadow(0px 1px 2px rgba(0, 0, 0, 0.3));\n",
              "      fill: #FFFFFF;\n",
              "    }\n",
              "  </style>\n",
              "\n",
              "      <script>\n",
              "        const buttonEl =\n",
              "          document.querySelector('#df-37038dde-f329-4322-a838-f9920076740d button.colab-df-convert');\n",
              "        buttonEl.style.display =\n",
              "          google.colab.kernel.accessAllowed ? 'block' : 'none';\n",
              "\n",
              "        async function convertToInteractive(key) {\n",
              "          const element = document.querySelector('#df-37038dde-f329-4322-a838-f9920076740d');\n",
              "          const dataTable =\n",
              "            await google.colab.kernel.invokeFunction('convertToInteractive',\n",
              "                                                     [key], {});\n",
              "          if (!dataTable) return;\n",
              "\n",
              "          const docLinkHtml = 'Like what you see? Visit the ' +\n",
              "            '<a target=\"_blank\" href=https://colab.research.google.com/notebooks/data_table.ipynb>data table notebook</a>'\n",
              "            + ' to learn more about interactive tables.';\n",
              "          element.innerHTML = '';\n",
              "          dataTable['output_type'] = 'display_data';\n",
              "          await google.colab.output.renderOutput(dataTable, element);\n",
              "          const docLink = document.createElement('div');\n",
              "          docLink.innerHTML = docLinkHtml;\n",
              "          element.appendChild(docLink);\n",
              "        }\n",
              "      </script>\n",
              "    </div>\n",
              "  </div>\n",
              "  "
            ]
          },
          "metadata": {},
          "execution_count": 7
        }
      ]
    },
    {
      "cell_type": "code",
      "source": [
        "ratings.head()"
      ],
      "metadata": {
        "colab": {
          "base_uri": "https://localhost:8080/",
          "height": 206
        },
        "id": "a5PpUW_4ZyGO",
        "outputId": "05aa6606-2210-4a53-ff13-9cd7c87ea150"
      },
      "execution_count": 8,
      "outputs": [
        {
          "output_type": "execute_result",
          "data": {
            "text/plain": [
              "   0     1  2          3\n",
              "0  1  1193  5  978300760\n",
              "1  1   661  3  978302109\n",
              "2  1   914  3  978301968\n",
              "3  1  3408  4  978300275\n",
              "4  1  2355  5  978824291"
            ],
            "text/html": [
              "\n",
              "  <div id=\"df-c43043ae-f3f6-4ee6-8d16-8d9073c8d1f1\">\n",
              "    <div class=\"colab-df-container\">\n",
              "      <div>\n",
              "<style scoped>\n",
              "    .dataframe tbody tr th:only-of-type {\n",
              "        vertical-align: middle;\n",
              "    }\n",
              "\n",
              "    .dataframe tbody tr th {\n",
              "        vertical-align: top;\n",
              "    }\n",
              "\n",
              "    .dataframe thead th {\n",
              "        text-align: right;\n",
              "    }\n",
              "</style>\n",
              "<table border=\"1\" class=\"dataframe\">\n",
              "  <thead>\n",
              "    <tr style=\"text-align: right;\">\n",
              "      <th></th>\n",
              "      <th>0</th>\n",
              "      <th>1</th>\n",
              "      <th>2</th>\n",
              "      <th>3</th>\n",
              "    </tr>\n",
              "  </thead>\n",
              "  <tbody>\n",
              "    <tr>\n",
              "      <th>0</th>\n",
              "      <td>1</td>\n",
              "      <td>1193</td>\n",
              "      <td>5</td>\n",
              "      <td>978300760</td>\n",
              "    </tr>\n",
              "    <tr>\n",
              "      <th>1</th>\n",
              "      <td>1</td>\n",
              "      <td>661</td>\n",
              "      <td>3</td>\n",
              "      <td>978302109</td>\n",
              "    </tr>\n",
              "    <tr>\n",
              "      <th>2</th>\n",
              "      <td>1</td>\n",
              "      <td>914</td>\n",
              "      <td>3</td>\n",
              "      <td>978301968</td>\n",
              "    </tr>\n",
              "    <tr>\n",
              "      <th>3</th>\n",
              "      <td>1</td>\n",
              "      <td>3408</td>\n",
              "      <td>4</td>\n",
              "      <td>978300275</td>\n",
              "    </tr>\n",
              "    <tr>\n",
              "      <th>4</th>\n",
              "      <td>1</td>\n",
              "      <td>2355</td>\n",
              "      <td>5</td>\n",
              "      <td>978824291</td>\n",
              "    </tr>\n",
              "  </tbody>\n",
              "</table>\n",
              "</div>\n",
              "      <button class=\"colab-df-convert\" onclick=\"convertToInteractive('df-c43043ae-f3f6-4ee6-8d16-8d9073c8d1f1')\"\n",
              "              title=\"Convert this dataframe to an interactive table.\"\n",
              "              style=\"display:none;\">\n",
              "        \n",
              "  <svg xmlns=\"http://www.w3.org/2000/svg\" height=\"24px\"viewBox=\"0 0 24 24\"\n",
              "       width=\"24px\">\n",
              "    <path d=\"M0 0h24v24H0V0z\" fill=\"none\"/>\n",
              "    <path d=\"M18.56 5.44l.94 2.06.94-2.06 2.06-.94-2.06-.94-.94-2.06-.94 2.06-2.06.94zm-11 1L8.5 8.5l.94-2.06 2.06-.94-2.06-.94L8.5 2.5l-.94 2.06-2.06.94zm10 10l.94 2.06.94-2.06 2.06-.94-2.06-.94-.94-2.06-.94 2.06-2.06.94z\"/><path d=\"M17.41 7.96l-1.37-1.37c-.4-.4-.92-.59-1.43-.59-.52 0-1.04.2-1.43.59L10.3 9.45l-7.72 7.72c-.78.78-.78 2.05 0 2.83L4 21.41c.39.39.9.59 1.41.59.51 0 1.02-.2 1.41-.59l7.78-7.78 2.81-2.81c.8-.78.8-2.07 0-2.86zM5.41 20L4 18.59l7.72-7.72 1.47 1.35L5.41 20z\"/>\n",
              "  </svg>\n",
              "      </button>\n",
              "      \n",
              "  <style>\n",
              "    .colab-df-container {\n",
              "      display:flex;\n",
              "      flex-wrap:wrap;\n",
              "      gap: 12px;\n",
              "    }\n",
              "\n",
              "    .colab-df-convert {\n",
              "      background-color: #E8F0FE;\n",
              "      border: none;\n",
              "      border-radius: 50%;\n",
              "      cursor: pointer;\n",
              "      display: none;\n",
              "      fill: #1967D2;\n",
              "      height: 32px;\n",
              "      padding: 0 0 0 0;\n",
              "      width: 32px;\n",
              "    }\n",
              "\n",
              "    .colab-df-convert:hover {\n",
              "      background-color: #E2EBFA;\n",
              "      box-shadow: 0px 1px 2px rgba(60, 64, 67, 0.3), 0px 1px 3px 1px rgba(60, 64, 67, 0.15);\n",
              "      fill: #174EA6;\n",
              "    }\n",
              "\n",
              "    [theme=dark] .colab-df-convert {\n",
              "      background-color: #3B4455;\n",
              "      fill: #D2E3FC;\n",
              "    }\n",
              "\n",
              "    [theme=dark] .colab-df-convert:hover {\n",
              "      background-color: #434B5C;\n",
              "      box-shadow: 0px 1px 3px 1px rgba(0, 0, 0, 0.15);\n",
              "      filter: drop-shadow(0px 1px 2px rgba(0, 0, 0, 0.3));\n",
              "      fill: #FFFFFF;\n",
              "    }\n",
              "  </style>\n",
              "\n",
              "      <script>\n",
              "        const buttonEl =\n",
              "          document.querySelector('#df-c43043ae-f3f6-4ee6-8d16-8d9073c8d1f1 button.colab-df-convert');\n",
              "        buttonEl.style.display =\n",
              "          google.colab.kernel.accessAllowed ? 'block' : 'none';\n",
              "\n",
              "        async function convertToInteractive(key) {\n",
              "          const element = document.querySelector('#df-c43043ae-f3f6-4ee6-8d16-8d9073c8d1f1');\n",
              "          const dataTable =\n",
              "            await google.colab.kernel.invokeFunction('convertToInteractive',\n",
              "                                                     [key], {});\n",
              "          if (!dataTable) return;\n",
              "\n",
              "          const docLinkHtml = 'Like what you see? Visit the ' +\n",
              "            '<a target=\"_blank\" href=https://colab.research.google.com/notebooks/data_table.ipynb>data table notebook</a>'\n",
              "            + ' to learn more about interactive tables.';\n",
              "          element.innerHTML = '';\n",
              "          dataTable['output_type'] = 'display_data';\n",
              "          await google.colab.output.renderOutput(dataTable, element);\n",
              "          const docLink = document.createElement('div');\n",
              "          docLink.innerHTML = docLinkHtml;\n",
              "          element.appendChild(docLink);\n",
              "        }\n",
              "      </script>\n",
              "    </div>\n",
              "  </div>\n",
              "  "
            ]
          },
          "metadata": {},
          "execution_count": 8
        }
      ]
    },
    {
      "cell_type": "code",
      "source": [
        "training_set = pd.read_csv('/content/drive/MyDrive/ml-100k/u1.base', delimiter = '\\t')\n",
        "training_set = np.array(training_set, dtype = 'int')\n",
        "test_set = pd.read_csv('/content/drive/MyDrive/ml-100k/u1.test', delimiter = '\\t')\n",
        "test_set = np.array(test_set, dtype = 'int')"
      ],
      "metadata": {
        "id": "PWxIxxBSZy6R"
      },
      "execution_count": 9,
      "outputs": []
    },
    {
      "cell_type": "code",
      "source": [
        "training_set"
      ],
      "metadata": {
        "colab": {
          "base_uri": "https://localhost:8080/"
        },
        "id": "5YSXHU3rZ45O",
        "outputId": "23090035-1893-48d7-cc88-0ddd6591e097"
      },
      "execution_count": 10,
      "outputs": [
        {
          "output_type": "execute_result",
          "data": {
            "text/plain": [
              "array([[        1,         2,         3, 876893171],\n",
              "       [        1,         3,         4, 878542960],\n",
              "       [        1,         4,         3, 876893119],\n",
              "       ...,\n",
              "       [      943,      1188,         3, 888640250],\n",
              "       [      943,      1228,         3, 888640275],\n",
              "       [      943,      1330,         3, 888692465]])"
            ]
          },
          "metadata": {},
          "execution_count": 10
        }
      ]
    },
    {
      "cell_type": "code",
      "source": [
        "training_set"
      ],
      "metadata": {
        "colab": {
          "base_uri": "https://localhost:8080/"
        },
        "id": "DHwVQwdBZ7jo",
        "outputId": "ce89ed95-9a4b-42a0-d1b9-7f7a6e58e76d"
      },
      "execution_count": 11,
      "outputs": [
        {
          "output_type": "execute_result",
          "data": {
            "text/plain": [
              "array([[        1,         2,         3, 876893171],\n",
              "       [        1,         3,         4, 878542960],\n",
              "       [        1,         4,         3, 876893119],\n",
              "       ...,\n",
              "       [      943,      1188,         3, 888640250],\n",
              "       [      943,      1228,         3, 888640275],\n",
              "       [      943,      1330,         3, 888692465]])"
            ]
          },
          "metadata": {},
          "execution_count": 11
        }
      ]
    },
    {
      "cell_type": "code",
      "source": [
        "nb_users = int(max(max(training_set[:, 0], ), max(test_set[:, 0])))\n",
        "nb_movies = int(max(max(training_set[:, 1], ), max(test_set[:, 1])))"
      ],
      "metadata": {
        "id": "OEGMN4CoZ8rj"
      },
      "execution_count": 12,
      "outputs": []
    },
    {
      "cell_type": "code",
      "source": [
        "nb_users, nb_movies"
      ],
      "metadata": {
        "colab": {
          "base_uri": "https://localhost:8080/"
        },
        "id": "XgB1pXyUaA1o",
        "outputId": "2b36e876-6c1e-475c-a698-5cf412fe23da"
      },
      "execution_count": 13,
      "outputs": [
        {
          "output_type": "execute_result",
          "data": {
            "text/plain": [
              "(943, 1682)"
            ]
          },
          "metadata": {},
          "execution_count": 13
        }
      ]
    },
    {
      "cell_type": "code",
      "source": [
        "def convert(data):\n",
        "  new_data = []\n",
        "  for id_users in range(1, nb_users + 1):\n",
        "    id_movies = data[:, 1] [data[:, 0] == id_users]\n",
        "    id_ratings = data[:, 2] [data[:, 0] == id_users]\n",
        "    ratings = np.zeros(nb_movies)\n",
        "    ratings[id_movies - 1] = id_ratings\n",
        "    new_data.append(list(ratings))\n",
        "  return new_data\n",
        "training_set = convert(training_set)\n",
        "test_set = convert(test_set)"
      ],
      "metadata": {
        "id": "bYx0w9_taCmL"
      },
      "execution_count": 14,
      "outputs": []
    },
    {
      "cell_type": "code",
      "source": [
        "training_set = torch.FloatTensor(training_set)\n",
        "test_set = torch.FloatTensor(test_set)"
      ],
      "metadata": {
        "id": "lPmNw5FnaFBt"
      },
      "execution_count": 15,
      "outputs": []
    },
    {
      "cell_type": "code",
      "source": [
        "training_set"
      ],
      "metadata": {
        "colab": {
          "base_uri": "https://localhost:8080/"
        },
        "id": "F18zjZkxaOmL",
        "outputId": "bc7c69e3-7d38-463c-b75e-0ade0e0183ef"
      },
      "execution_count": 16,
      "outputs": [
        {
          "output_type": "execute_result",
          "data": {
            "text/plain": [
              "tensor([[0., 3., 4.,  ..., 0., 0., 0.],\n",
              "        [4., 0., 0.,  ..., 0., 0., 0.],\n",
              "        [0., 0., 0.,  ..., 0., 0., 0.],\n",
              "        ...,\n",
              "        [5., 0., 0.,  ..., 0., 0., 0.],\n",
              "        [0., 0., 0.,  ..., 0., 0., 0.],\n",
              "        [0., 5., 0.,  ..., 0., 0., 0.]])"
            ]
          },
          "metadata": {},
          "execution_count": 16
        }
      ]
    },
    {
      "cell_type": "code",
      "source": [
        "test_set"
      ],
      "metadata": {
        "colab": {
          "base_uri": "https://localhost:8080/"
        },
        "id": "_ABZ7F-RaQGj",
        "outputId": "cc69980c-6d94-43fd-face-6ecc79cb5c65"
      },
      "execution_count": 17,
      "outputs": [
        {
          "output_type": "execute_result",
          "data": {
            "text/plain": [
              "tensor([[0., 0., 0.,  ..., 0., 0., 0.],\n",
              "        [0., 0., 0.,  ..., 0., 0., 0.],\n",
              "        [0., 0., 0.,  ..., 0., 0., 0.],\n",
              "        ...,\n",
              "        [0., 0., 0.,  ..., 0., 0., 0.],\n",
              "        [0., 0., 0.,  ..., 0., 0., 0.],\n",
              "        [0., 0., 0.,  ..., 0., 0., 0.]])"
            ]
          },
          "metadata": {},
          "execution_count": 17
        }
      ]
    },
    {
      "cell_type": "code",
      "source": [
        "class SAE(nn.Module):\n",
        "  def __init__(self, ):\n",
        "    super(SAE, self).__init__()\n",
        "    self.fc1 = nn.Linear(nb_movies, 20)\n",
        "    self.fc2 = nn.Linear(20, 10)\n",
        "    self.fc3 = nn.Linear(10, 20)\n",
        "    self.fc4 = nn.Linear(20, nb_movies)\n",
        "    self.activation = nn.Sigmoid()\n",
        "  def forward(self, x):\n",
        "    x = self.activation(self.fc1(x))\n",
        "    x = self.activation(self.fc2(x))\n",
        "    x = self.activation(self.fc3(x))\n",
        "    x = self.fc4(x)\n",
        "    return x"
      ],
      "metadata": {
        "id": "1RFKmTvzaRdV"
      },
      "execution_count": 18,
      "outputs": []
    },
    {
      "cell_type": "code",
      "source": [
        "sae = SAE()\n",
        "criterion = nn.MSELoss()\n",
        "optimizer = optim.RMSprop(sae.parameters(), lr = 0.01, weight_decay = 0.5)"
      ],
      "metadata": {
        "id": "JK65o5oIdzbd"
      },
      "execution_count": 19,
      "outputs": []
    },
    {
      "cell_type": "code",
      "metadata": {
        "id": "FEz9hRaciFTs",
        "colab": {
          "base_uri": "https://localhost:8080/"
        },
        "outputId": "a765d21f-7af3-414d-bf38-72b629f1b0a9"
      },
      "source": [
        "nb_epoch = 200\n",
        "for epoch in range(1, nb_epoch + 1):\n",
        "  train_loss = 0\n",
        "  s = 0.\n",
        "  for id_user in range(nb_users):\n",
        "    input = Variable(training_set[id_user]).unsqueeze(0)\n",
        "    target = input.clone()\n",
        "    if torch.sum(target.data > 0) > 0:\n",
        "      output = sae(input)\n",
        "      target.require_grad = False\n",
        "      output[target == 0] = 0\n",
        "      loss = criterion(output, target)\n",
        "      mean_corrector = nb_movies/float(torch.sum(target.data > 0) + 1e-10)\n",
        "      loss.backward()\n",
        "      train_loss += np.sqrt(loss.data*mean_corrector)\n",
        "      s += 1.\n",
        "      optimizer.step()\n",
        "  print('epoch: '+str(epoch)+' loss: '+ str(train_loss/s))"
      ],
      "execution_count": 20,
      "outputs": [
        {
          "output_type": "stream",
          "name": "stdout",
          "text": [
            "epoch: 1 loss: tensor(1.7711)\n",
            "epoch: 2 loss: tensor(1.0966)\n",
            "epoch: 3 loss: tensor(1.0535)\n",
            "epoch: 4 loss: tensor(1.0382)\n",
            "epoch: 5 loss: tensor(1.0309)\n",
            "epoch: 6 loss: tensor(1.0267)\n",
            "epoch: 7 loss: tensor(1.0240)\n",
            "epoch: 8 loss: tensor(1.0220)\n",
            "epoch: 9 loss: tensor(1.0209)\n",
            "epoch: 10 loss: tensor(1.0196)\n",
            "epoch: 11 loss: tensor(1.0189)\n",
            "epoch: 12 loss: tensor(1.0184)\n",
            "epoch: 13 loss: tensor(1.0179)\n",
            "epoch: 14 loss: tensor(1.0173)\n",
            "epoch: 15 loss: tensor(1.0172)\n",
            "epoch: 16 loss: tensor(1.0169)\n",
            "epoch: 17 loss: tensor(1.0170)\n",
            "epoch: 18 loss: tensor(1.0163)\n",
            "epoch: 19 loss: tensor(1.0164)\n",
            "epoch: 20 loss: tensor(1.0162)\n",
            "epoch: 21 loss: tensor(1.0160)\n",
            "epoch: 22 loss: tensor(1.0161)\n",
            "epoch: 23 loss: tensor(1.0158)\n",
            "epoch: 24 loss: tensor(1.0159)\n",
            "epoch: 25 loss: tensor(1.0157)\n",
            "epoch: 26 loss: tensor(1.0154)\n",
            "epoch: 27 loss: tensor(1.0154)\n",
            "epoch: 28 loss: tensor(1.0151)\n",
            "epoch: 29 loss: tensor(1.0129)\n",
            "epoch: 30 loss: tensor(1.0115)\n",
            "epoch: 31 loss: tensor(1.0106)\n",
            "epoch: 32 loss: tensor(1.0078)\n",
            "epoch: 33 loss: tensor(1.0078)\n",
            "epoch: 34 loss: tensor(1.0041)\n",
            "epoch: 35 loss: tensor(1.0016)\n",
            "epoch: 36 loss: tensor(0.9999)\n",
            "epoch: 37 loss: tensor(0.9991)\n",
            "epoch: 38 loss: tensor(0.9967)\n",
            "epoch: 39 loss: tensor(0.9952)\n",
            "epoch: 40 loss: tensor(0.9922)\n",
            "epoch: 41 loss: tensor(0.9896)\n",
            "epoch: 42 loss: tensor(0.9882)\n",
            "epoch: 43 loss: tensor(0.9852)\n",
            "epoch: 44 loss: tensor(0.9838)\n",
            "epoch: 45 loss: tensor(0.9861)\n",
            "epoch: 46 loss: tensor(0.9846)\n",
            "epoch: 47 loss: tensor(0.9804)\n",
            "epoch: 48 loss: tensor(0.9788)\n",
            "epoch: 49 loss: tensor(0.9788)\n",
            "epoch: 50 loss: tensor(0.9740)\n",
            "epoch: 51 loss: tensor(0.9737)\n",
            "epoch: 52 loss: tensor(0.9712)\n",
            "epoch: 53 loss: tensor(0.9734)\n",
            "epoch: 54 loss: tensor(0.9776)\n",
            "epoch: 55 loss: tensor(0.9754)\n",
            "epoch: 56 loss: tensor(0.9717)\n",
            "epoch: 57 loss: tensor(0.9744)\n",
            "epoch: 58 loss: tensor(0.9702)\n",
            "epoch: 59 loss: tensor(0.9686)\n",
            "epoch: 60 loss: tensor(0.9632)\n",
            "epoch: 61 loss: tensor(0.9663)\n",
            "epoch: 62 loss: tensor(0.9640)\n",
            "epoch: 63 loss: tensor(0.9615)\n",
            "epoch: 64 loss: tensor(0.9583)\n",
            "epoch: 65 loss: tensor(0.9580)\n",
            "epoch: 66 loss: tensor(0.9568)\n",
            "epoch: 67 loss: tensor(0.9573)\n",
            "epoch: 68 loss: tensor(0.9544)\n",
            "epoch: 69 loss: tensor(0.9550)\n",
            "epoch: 70 loss: tensor(0.9524)\n",
            "epoch: 71 loss: tensor(0.9512)\n",
            "epoch: 72 loss: tensor(0.9538)\n",
            "epoch: 73 loss: tensor(0.9526)\n",
            "epoch: 74 loss: tensor(0.9498)\n",
            "epoch: 75 loss: tensor(0.9504)\n",
            "epoch: 76 loss: tensor(0.9467)\n",
            "epoch: 77 loss: tensor(0.9490)\n",
            "epoch: 78 loss: tensor(0.9446)\n",
            "epoch: 79 loss: tensor(0.9511)\n",
            "epoch: 80 loss: tensor(0.9522)\n",
            "epoch: 81 loss: tensor(0.9490)\n",
            "epoch: 82 loss: tensor(0.9458)\n",
            "epoch: 83 loss: tensor(0.9464)\n",
            "epoch: 84 loss: tensor(0.9444)\n",
            "epoch: 85 loss: tensor(0.9444)\n",
            "epoch: 86 loss: tensor(0.9425)\n",
            "epoch: 87 loss: tensor(0.9418)\n",
            "epoch: 88 loss: tensor(0.9409)\n",
            "epoch: 89 loss: tensor(0.9413)\n",
            "epoch: 90 loss: tensor(0.9394)\n",
            "epoch: 91 loss: tensor(0.9394)\n",
            "epoch: 92 loss: tensor(0.9374)\n",
            "epoch: 93 loss: tensor(0.9379)\n",
            "epoch: 94 loss: tensor(0.9363)\n",
            "epoch: 95 loss: tensor(0.9374)\n",
            "epoch: 96 loss: tensor(0.9408)\n",
            "epoch: 97 loss: tensor(0.9393)\n",
            "epoch: 98 loss: tensor(0.9380)\n",
            "epoch: 99 loss: tensor(0.9375)\n",
            "epoch: 100 loss: tensor(0.9330)\n",
            "epoch: 101 loss: tensor(0.9347)\n",
            "epoch: 102 loss: tensor(0.9325)\n",
            "epoch: 103 loss: tensor(0.9344)\n",
            "epoch: 104 loss: tensor(0.9321)\n",
            "epoch: 105 loss: tensor(0.9330)\n",
            "epoch: 106 loss: tensor(0.9306)\n",
            "epoch: 107 loss: tensor(0.9316)\n",
            "epoch: 108 loss: tensor(0.9304)\n",
            "epoch: 109 loss: tensor(0.9328)\n",
            "epoch: 110 loss: tensor(0.9324)\n",
            "epoch: 111 loss: tensor(0.9322)\n",
            "epoch: 112 loss: tensor(0.9309)\n",
            "epoch: 113 loss: tensor(0.9316)\n",
            "epoch: 114 loss: tensor(0.9301)\n",
            "epoch: 115 loss: tensor(0.9311)\n",
            "epoch: 116 loss: tensor(0.9295)\n",
            "epoch: 117 loss: tensor(0.9302)\n",
            "epoch: 118 loss: tensor(0.9284)\n",
            "epoch: 119 loss: tensor(0.9293)\n",
            "epoch: 120 loss: tensor(0.9278)\n",
            "epoch: 121 loss: tensor(0.9288)\n",
            "epoch: 122 loss: tensor(0.9273)\n",
            "epoch: 123 loss: tensor(0.9278)\n",
            "epoch: 124 loss: tensor(0.9268)\n",
            "epoch: 125 loss: tensor(0.9278)\n",
            "epoch: 126 loss: tensor(0.9267)\n",
            "epoch: 127 loss: tensor(0.9267)\n",
            "epoch: 128 loss: tensor(0.9256)\n",
            "epoch: 129 loss: tensor(0.9258)\n",
            "epoch: 130 loss: tensor(0.9248)\n",
            "epoch: 131 loss: tensor(0.9252)\n",
            "epoch: 132 loss: tensor(0.9246)\n",
            "epoch: 133 loss: tensor(0.9251)\n",
            "epoch: 134 loss: tensor(0.9243)\n",
            "epoch: 135 loss: tensor(0.9246)\n",
            "epoch: 136 loss: tensor(0.9233)\n",
            "epoch: 137 loss: tensor(0.9236)\n",
            "epoch: 138 loss: tensor(0.9235)\n",
            "epoch: 139 loss: tensor(0.9232)\n",
            "epoch: 140 loss: tensor(0.9226)\n",
            "epoch: 141 loss: tensor(0.9227)\n",
            "epoch: 142 loss: tensor(0.9215)\n",
            "epoch: 143 loss: tensor(0.9217)\n",
            "epoch: 144 loss: tensor(0.9215)\n",
            "epoch: 145 loss: tensor(0.9219)\n",
            "epoch: 146 loss: tensor(0.9215)\n",
            "epoch: 147 loss: tensor(0.9210)\n",
            "epoch: 148 loss: tensor(0.9208)\n",
            "epoch: 149 loss: tensor(0.9206)\n",
            "epoch: 150 loss: tensor(0.9201)\n",
            "epoch: 151 loss: tensor(0.9208)\n",
            "epoch: 152 loss: tensor(0.9198)\n",
            "epoch: 153 loss: tensor(0.9201)\n",
            "epoch: 154 loss: tensor(0.9194)\n",
            "epoch: 155 loss: tensor(0.9196)\n",
            "epoch: 156 loss: tensor(0.9188)\n",
            "epoch: 157 loss: tensor(0.9190)\n",
            "epoch: 158 loss: tensor(0.9186)\n",
            "epoch: 159 loss: tensor(0.9187)\n",
            "epoch: 160 loss: tensor(0.9183)\n",
            "epoch: 161 loss: tensor(0.9180)\n",
            "epoch: 162 loss: tensor(0.9176)\n",
            "epoch: 163 loss: tensor(0.9181)\n",
            "epoch: 164 loss: tensor(0.9174)\n",
            "epoch: 165 loss: tensor(0.9175)\n",
            "epoch: 166 loss: tensor(0.9170)\n",
            "epoch: 167 loss: tensor(0.9173)\n",
            "epoch: 168 loss: tensor(0.9166)\n",
            "epoch: 169 loss: tensor(0.9168)\n",
            "epoch: 170 loss: tensor(0.9167)\n",
            "epoch: 171 loss: tensor(0.9167)\n",
            "epoch: 172 loss: tensor(0.9162)\n",
            "epoch: 173 loss: tensor(0.9161)\n",
            "epoch: 174 loss: tensor(0.9159)\n",
            "epoch: 175 loss: tensor(0.9159)\n",
            "epoch: 176 loss: tensor(0.9153)\n",
            "epoch: 177 loss: tensor(0.9153)\n",
            "epoch: 178 loss: tensor(0.9153)\n",
            "epoch: 179 loss: tensor(0.9153)\n",
            "epoch: 180 loss: tensor(0.9146)\n",
            "epoch: 181 loss: tensor(0.9146)\n",
            "epoch: 182 loss: tensor(0.9145)\n",
            "epoch: 183 loss: tensor(0.9145)\n",
            "epoch: 184 loss: tensor(0.9142)\n",
            "epoch: 185 loss: tensor(0.9142)\n",
            "epoch: 186 loss: tensor(0.9139)\n",
            "epoch: 187 loss: tensor(0.9138)\n",
            "epoch: 188 loss: tensor(0.9137)\n",
            "epoch: 189 loss: tensor(0.9135)\n",
            "epoch: 190 loss: tensor(0.9134)\n",
            "epoch: 191 loss: tensor(0.9132)\n",
            "epoch: 192 loss: tensor(0.9130)\n",
            "epoch: 193 loss: tensor(0.9132)\n",
            "epoch: 194 loss: tensor(0.9130)\n",
            "epoch: 195 loss: tensor(0.9124)\n",
            "epoch: 196 loss: tensor(0.9125)\n",
            "epoch: 197 loss: tensor(0.9126)\n",
            "epoch: 198 loss: tensor(0.9120)\n",
            "epoch: 199 loss: tensor(0.9120)\n",
            "epoch: 200 loss: tensor(0.9119)\n"
          ]
        }
      ]
    },
    {
      "cell_type": "code",
      "metadata": {
        "id": "5ztvzYRtiGCz",
        "colab": {
          "base_uri": "https://localhost:8080/"
        },
        "outputId": "d6cf63a0-f87e-4e40-fa75-66585f61774d"
      },
      "source": [
        "test_loss = 0\n",
        "s = 0.\n",
        "for id_user in range(nb_users):\n",
        "  input = Variable(training_set[id_user]).unsqueeze(0)\n",
        "  target = Variable(test_set[id_user]).unsqueeze(0)\n",
        "  if torch.sum(target.data > 0) > 0:\n",
        "    output = sae(input)\n",
        "    target.require_grad = False\n",
        "    output[target == 0] = 0\n",
        "    loss = criterion(output, target)\n",
        "    mean_corrector = nb_movies/float(torch.sum(target.data > 0) + 1e-10)\n",
        "    test_loss += np.sqrt(loss.data*mean_corrector)\n",
        "    s += 1.\n",
        "print('test loss: '+str(test_loss/s))"
      ],
      "execution_count": 21,
      "outputs": [
        {
          "output_type": "stream",
          "name": "stdout",
          "text": [
            "test loss: tensor(0.9510)\n"
          ]
        }
      ]
    }
  ]
}